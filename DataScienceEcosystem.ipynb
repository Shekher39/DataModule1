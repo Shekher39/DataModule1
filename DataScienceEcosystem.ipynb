{
 "cells": [
  {
   "cell_type": "markdown",
   "id": "3d03bd39-cf3a-4d87-ac34-cafec0cfe87f",
   "metadata": {},
   "source": [
    "# Data Science Tools and Ecosystem"
   ]
  },
  {
   "cell_type": "markdown",
   "id": "16c7b960-b9c3-4846-8c57-d14ce28eae19",
   "metadata": {},
   "source": [
    "**In this notebook, Data Science Tools and Ecosystem are summarized**"
   ]
  },
  {
   "cell_type": "markdown",
   "id": "8b28b32b-78b6-4b9e-ba9f-26e11cb5b6e0",
   "metadata": {},
   "source": [
    "Some of the popular languages that Data Scientists use are:\n",
    "1. Python\n",
    "2. Java Script\n",
    "3. SCALA\n",
    "4. R \n",
    "5. SQL\n",
    "6. Julia"
   ]
  },
  {
   "cell_type": "markdown",
   "id": "5fd47bc2-b1e9-452f-beb2-75376bb4ca8d",
   "metadata": {},
   "source": [
    "Some of the commonly used libraries used by Data Scientists include:\n",
    "1. TensorFlow\n",
    "2. NumPy\n",
    "3. SciPy\n",
    "4. Pandas\n",
    "5. Matplotlib\n",
    "6. Keras\n",
    "7. SciKit-Learn\n",
    "8. PyTorch"
   ]
  },
  {
   "cell_type": "markdown",
   "id": "7617d69e-d493-44d7-9ad3-2832bba628ef",
   "metadata": {
    "tags": []
   },
   "source": [
    "| Data Science Tools |\n",
    "-----------------------\n",
    "| Jupyter |\n",
    "| Anaconda |\n",
    "| Rstudio |"
   ]
  },
  {
   "cell_type": "markdown",
   "id": "cdaf7e98-0179-4a72-a8d8-fc3224382299",
   "metadata": {},
   "source": [
    "### Below are a few examples of evaluating arithmetic expressions in Python"
   ]
  },
  {
   "cell_type": "code",
   "execution_count": 4,
   "id": "4c46d3db-f17d-494c-983c-f165a2d39e6c",
   "metadata": {
    "tags": []
   },
   "outputs": [
    {
     "data": {
      "text/plain": [
       "17"
      ]
     },
     "execution_count": 4,
     "metadata": {},
     "output_type": "execute_result"
    }
   ],
   "source": [
    "(3*4)+5 \n",
    "# This a simple arithmetic expression to mutiply then add integers."
   ]
  },
  {
   "cell_type": "code",
   "execution_count": 8,
   "id": "263c1ec2-f070-44d3-add1-f01678218cc9",
   "metadata": {
    "tags": []
   },
   "outputs": [
    {
     "data": {
      "text/plain": [
       "3.3333333333333335"
      ]
     },
     "execution_count": 8,
     "metadata": {},
     "output_type": "execute_result"
    }
   ],
   "source": [
    "# This will convert 200 minutes to hours by diving by 60 - Hours\n",
    "200/60"
   ]
  },
  {
   "cell_type": "markdown",
   "id": "a8128555-b5fe-4cf6-ba0a-138570ac3456",
   "metadata": {},
   "source": [
    "| **Objective** |\n",
    "-----------------\n",
    "| Python |\n",
    "| Java Script |\n",
    "| SCALA |\n",
    "| R |\n",
    "| SQL|"
   ]
  },
  {
   "cell_type": "markdown",
   "id": "89a48359-fe67-4e9f-9007-3282e63aa701",
   "metadata": {},
   "source": [
    "## Author\n",
    "Sanjeev Shekher"
   ]
  },
  {
   "cell_type": "code",
   "execution_count": null,
   "id": "b6c368b0-8158-49ec-93a4-4f676e64ea39",
   "metadata": {},
   "outputs": [],
   "source": []
  }
 ],
 "metadata": {
  "kernelspec": {
   "display_name": "Python",
   "language": "python",
   "name": "conda-env-python-py"
  },
  "language_info": {
   "codemirror_mode": {
    "name": "ipython",
    "version": 3
   },
   "file_extension": ".py",
   "mimetype": "text/x-python",
   "name": "python",
   "nbconvert_exporter": "python",
   "pygments_lexer": "ipython3",
   "version": "3.7.12"
  }
 },
 "nbformat": 4,
 "nbformat_minor": 5
}
